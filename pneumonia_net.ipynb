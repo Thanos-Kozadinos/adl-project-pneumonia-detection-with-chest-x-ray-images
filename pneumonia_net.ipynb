{
  "cells": [
    {
      "cell_type": "code",
      "execution_count": 3,
      "metadata": {
        "gather": {
          "logged": 1715546301884
        }
      },
      "outputs": [],
      "source": [
        "import torch\n",
        "import torchvision\n",
        "import torchvision.transforms as transforms, datasets\n",
        "from torch.utils.data import DataLoader, WeightedRandomSampler\n",
        "from torchvision import datasets\n",
        "import torch.nn as nn\n",
        "import torch.optim as optim\n",
        "from sklearn.metrics import confusion_matrix, precision_recall_fscore_support, roc_auc_score"
      ]
    },
    {
      "cell_type": "code",
      "execution_count": 4,
      "metadata": {},
      "outputs": [
        {
          "name": "stdout",
          "output_type": "stream",
          "text": [
            "Mean: tensor([0.4823, 0.4823, 0.4823])\n",
            "Std: tensor([0.2218, 0.2218, 0.2218])\n"
          ]
        }
      ],
      "source": [
        "# calculate mean and std for data transform\n",
        "# Define a transform to convert the data into tensors\n",
        "transform = transforms.Compose([\n",
        "    transforms.Resize((256, 256)),\n",
        "    transforms.ToTensor()\n",
        "])\n",
        "\n",
        "# train dataset\n",
        "dataset = datasets.ImageFolder(root='chest_xray/chest_xray/train', transform=transform)\n",
        "dataloader = DataLoader(dataset, batch_size=64, shuffle=True, num_workers=4)\n",
        "\n",
        "# Function to calculate mean and std\n",
        "def get_mean_std(loader):\n",
        "    # Vars to accumulate the sum and sum of squares\n",
        "    mean = 0.\n",
        "    std = 0.\n",
        "    total_images_count = 0\n",
        "\n",
        "    for images, _ in loader:\n",
        "        # Rearrange batch to be the shape of [B, C, W * H]\n",
        "        images = images.view(images.size(0), images.size(1), -1)\n",
        "        # Update total image count\n",
        "        total_images_count += images.size(0)\n",
        "        # Compute mean and std sum\n",
        "        mean += images.mean(2).sum(0) \n",
        "        std += images.std(2).sum(0)\n",
        "\n",
        "    # Final step\n",
        "    mean /= total_images_count\n",
        "    std /= total_images_count\n",
        "\n",
        "    return mean, std\n",
        "\n",
        "mean, std = get_mean_std(dataloader)\n",
        "print(f'Mean: {mean}')\n",
        "print(f'Std: {std}')\n"
      ]
    },
    {
      "cell_type": "code",
      "execution_count": 6,
      "metadata": {
        "gather": {
          "logged": 1715546302577
        }
      },
      "outputs": [],
      "source": [
        "# Set device\n",
        "device = torch.device(\"cuda\" if torch.cuda.is_available() else \"cpu\")\n",
        "\n",
        "# Data transforms\n",
        "transform = transforms.Compose([\n",
        "    transforms.Resize((256, 256)),\n",
        "    transforms.RandomHorizontalFlip(),\n",
        "    transforms.ToTensor(),\n",
        "    transforms.Normalize(mean=mean, std=std) # global mean and standard deviation of the RGB channels of the ImageNet dataset.\n",
        "])\n",
        "\n",
        "# Load data\n",
        "train_set = torchvision.datasets.ImageFolder(root='chest_xray/chest_xray/train', transform=transform)\n",
        "val_set = torchvision.datasets.ImageFolder(root='chest_xray/chest_xray/val', transform=transform)\n",
        "test_set = torchvision.datasets.ImageFolder(root='chest_xray/chest_xray/test', transform=transform)\n",
        "\n",
        "# Extract labels from the dataset\n",
        "train_labels = [label for _, label in train_set.imgs]\n",
        "\n",
        "# Count each class's samples to calculate weights\n",
        "class_counts = torch.tensor(\n",
        "    [(torch.tensor(train_labels) == t).sum() for t in torch.unique(torch.tensor(train_labels), sorted=True)]\n",
        ")\n",
        "\n",
        "# Calculate weight for each class\n",
        "weights = 1. / class_counts.float()\n",
        "\n",
        "# Assign a weight to each sample\n",
        "sample_weights = torch.tensor([weights[label] for label in train_labels])\n",
        "\n",
        "# Define the sampler with these sample weights\n",
        "sampler = WeightedRandomSampler(weights=sample_weights, num_samples=len(sample_weights), replacement=True)\n",
        "\n",
        "\n",
        "train_loader = DataLoader(train_set, batch_size=32, sampler=sampler)\n",
        "val_loader = DataLoader(val_set, batch_size=32, shuffle=False)\n",
        "test_loader = DataLoader(test_set, batch_size=32, shuffle=False)"
      ]
    },
    {
      "cell_type": "code",
      "execution_count": 3,
      "metadata": {
        "gather": {
          "logged": 1715546303152
        }
      },
      "outputs": [],
      "source": [
        "# Define the CNN architecture\n",
        "class PneumoniaNet(nn.Module):\n",
        "    def __init__(self):\n",
        "        super(PneumoniaNet, self).__init__()\n",
        "        self.conv1 = nn.Conv2d(3, 32, kernel_size=3, stride=1, padding=1)\n",
        "        self.conv2 = nn.Conv2d(32, 64, kernel_size=3, stride=1, padding=1)\n",
        "        self.conv3 = nn.Conv2d(64, 128, kernel_size=3, stride=1, padding=1)\n",
        "        self.pool = nn.MaxPool2d(kernel_size=2, stride=2, padding=0)\n",
        "        self.dropout = nn.Dropout(0.25)\n",
        "        self.fc1 = nn.Linear(128 * 32 * 32, 512)\n",
        "        self.fc2 = nn.Linear(512, 2)\n",
        "        self.relu = nn.ReLU()\n",
        "\n",
        "    def forward(self, x):\n",
        "        x = self.pool(self.relu(self.conv1(x)))\n",
        "        x = self.pool(self.relu(self.conv2(x)))\n",
        "        x = self.pool(self.relu(self.conv3(x)))\n",
        "        x = x.view(-1, 128 * 32 * 32)  # Flatten the output\n",
        "        x = self.dropout(x)\n",
        "        x = self.relu(self.fc1(x))\n",
        "        x = self.fc2(x)\n",
        "        return x\n",
        "\n",
        "# Model\n",
        "model = PneumoniaNet().to(device)\n",
        "\n",
        "# Loss and optimizer\n",
        "criterion = nn.CrossEntropyLoss()\n",
        "optimizer = optim.Adam(model.parameters(), lr=0.001)"
      ]
    },
    {
      "cell_type": "code",
      "execution_count": 4,
      "metadata": {
        "gather": {
          "logged": 1715552407276
        }
      },
      "outputs": [
        {
          "name": "stdout",
          "output_type": "stream",
          "text": [
            "Epoch [1/10], Step [100/163], Loss: 0.0527\n",
            "Epoch [2/10], Step [100/163], Loss: 0.1684\n",
            "Epoch [3/10], Step [100/163], Loss: 0.0447\n",
            "Epoch [4/10], Step [100/163], Loss: 0.0776\n",
            "Epoch [5/10], Step [100/163], Loss: 0.0088\n",
            "Epoch [6/10], Step [100/163], Loss: 0.0502\n",
            "Epoch [7/10], Step [100/163], Loss: 0.0024\n",
            "Epoch [8/10], Step [100/163], Loss: 0.0036\n",
            "Epoch [9/10], Step [100/163], Loss: 0.0009\n",
            "Epoch [10/10], Step [100/163], Loss: 0.0189\n"
          ]
        }
      ],
      "source": [
        "# Training loop\n",
        "num_epochs = 10\n",
        "for epoch in range(num_epochs):\n",
        "    for i, (images, labels) in enumerate(train_loader):\n",
        "        images = images.to(device)\n",
        "        labels = labels.to(device)\n",
        "\n",
        "        # Forward pass\n",
        "        outputs = model(images)\n",
        "        loss = criterion(outputs, labels)\n",
        "\n",
        "        # Backward and optimize\n",
        "        optimizer.zero_grad()\n",
        "        loss.backward()\n",
        "        optimizer.step()\n",
        "\n",
        "        if (i+1) % 100 == 0:\n",
        "            print(f'Epoch [{epoch+1}/{num_epochs}], Step [{i+1}/{len(train_loader)}], Loss: {loss.item():.4f}')\n",
        "\n",
        "torch.save(model, 'model_pneumonianet.pth')\n"
      ]
    },
    {
      "cell_type": "code",
      "execution_count": 5,
      "metadata": {
        "gather": {
          "logged": 1715552462281
        },
        "jupyter": {
          "outputs_hidden": false,
          "source_hidden": false
        },
        "nteract": {
          "transient": {
            "deleting": false
          }
        }
      },
      "outputs": [
        {
          "name": "stdout",
          "output_type": "stream",
          "text": [
            "Test Accuracy of the model on the test images: 75.16025641025641 %\n"
          ]
        }
      ],
      "source": [
        "def evaluate_model(model, data_loader):    \n",
        "    # Evaluation\n",
        "    model.eval()\n",
        "    y_pred = []\n",
        "    y_true = []\n",
        "    y_proba = []\n",
        "    with torch.no_grad():\n",
        "        correct = 0\n",
        "        total = 0\n",
        "        for images, labels in test_loader:\n",
        "            images = images.to(device)\n",
        "            labels = labels.to(device)\n",
        "            outputs = model(images)\n",
        "            _, predicted = torch.max(outputs.data, 1)\n",
        "            y_pred.extend(predicted.cpu().numpy())\n",
        "            y_true.extend(labels.cpu().numpy())\n",
        "            probabilities = torch.nn.functional.softmax(outputs, dim=1)\n",
        "            y_proba.extend(probabilities[:, 1].cpu().numpy())\n",
        "            total += labels.size(0)\n",
        "            correct += (predicted == labels).sum().item()\n",
        "        # Calculate metrics\n",
        "        accuracy = correct / total\n",
        "        cm = confusion_matrix(y_true, y_pred)\n",
        "        precision, recall, f1_score, _ = precision_recall_fscore_support(y_true, y_pred, average='binary')\n",
        "        TN, FP, FN, TP = cm.ravel()\n",
        "        specificity = TN / (TN + FP)\n",
        "        npv = TN / (TN + FN)  # Negative Predictive Value\n",
        "        auc = roc_auc_score(y_true, y_proba)\n",
        "\n",
        "        return accuracy, cm, precision, recall, f1_score, specificity, npv, auc\n"
      ]
    },
    {
      "cell_type": "code",
      "execution_count": null,
      "metadata": {},
      "outputs": [],
      "source": [
        "# Call the evaluation function on train data\n",
        "accuracy, conf_matrix, precision, recall, f1_score, specificity, npv, auc = evaluate_model(model, train_loader)\n",
        "print(\"Metrics on the train images\")\n",
        "print(f\"Accuracy: {100* accuracy:.4f}%\")\n",
        "print(f\"Confusion Matrix:\\n{conf_matrix}\")\n",
        "print(f\"Precision: {100* precision:.4f}%\")\n",
        "print(f\"Recall: {100* recall:.4f}%\")\n",
        "print(f\"F1 Score: {100* f1_score:.4f}%\")\n",
        "print(f\"Specificity: {100* specificity:.4f}%\")\n",
        "print(f\"Negative Predictive Value: {100* npv:.4f}%\")\n",
        "print(f\"AUC: {100* auc:.4f}%\")\n",
        "\n",
        "print(\"\\n\\n\")"
      ]
    },
    {
      "cell_type": "code",
      "execution_count": null,
      "metadata": {},
      "outputs": [],
      "source": [
        "# Call the evaluation function on test data\n",
        "accuracy, conf_matrix, precision, recall, f1_score, specificity, npv, auc = evaluate_model(model, test_loader)\n",
        "print(\"Metrics on the train images\")\n",
        "print(f\"Accuracy: {100* accuracy:.4f}%\")\n",
        "print(f\"Confusion Matrix:\\n{conf_matrix}\")\n",
        "print(f\"Precision: {100* precision:.4f}%\")\n",
        "print(f\"Recall: {100* recall:.4f}%\")\n",
        "print(f\"F1 Score: {100* f1_score:.4f}%\")\n",
        "print(f\"Specificity: {100* specificity:.4f}%\")\n",
        "print(f\"Negative Predictive Value: {100* npv:.4f}%\")\n",
        "print(f\"AUC: {100* auc:.4f}%\")"
      ]
    }
  ],
  "metadata": {
    "kernel_info": {
      "name": "python310-sdkv2"
    },
    "kernelspec": {
      "display_name": "base",
      "language": "python",
      "name": "python3"
    },
    "language_info": {
      "codemirror_mode": {
        "name": "ipython",
        "version": 3
      },
      "file_extension": ".py",
      "mimetype": "text/x-python",
      "name": "python",
      "nbconvert_exporter": "python",
      "pygments_lexer": "ipython3",
      "version": "3.11.5"
    },
    "microsoft": {
      "host": {
        "AzureML": {
          "notebookHasBeenCompleted": true
        }
      },
      "ms_spell_check": {
        "ms_spell_check_language": "en"
      }
    },
    "nteract": {
      "version": "nteract-front-end@1.0.0"
    }
  },
  "nbformat": 4,
  "nbformat_minor": 2
}
